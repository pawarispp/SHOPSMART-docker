{
 "cells": [
  {
   "cell_type": "code",
   "execution_count": 1,
   "metadata": {},
   "outputs": [],
   "source": [
    "import pandas as pd\n",
    "from sqlalchemy import create_engine\n",
    "import time"
   ]
  },
  {
   "cell_type": "code",
   "execution_count": 2,
   "metadata": {},
   "outputs": [],
   "source": [
    "# Load Data\n",
    "transactions_df = pd.read_json('/home/jovyan/work/data/customer_transactions.json')\n",
    "products_df = pd.read_csv('/home/jovyan/work/data/product_catalog.csv')\n"
   ]
  },
  {
   "cell_type": "code",
   "execution_count": 3,
   "metadata": {},
   "outputs": [
    {
     "data": {
      "text/html": [
       "<div>\n",
       "<style scoped>\n",
       "    .dataframe tbody tr th:only-of-type {\n",
       "        vertical-align: middle;\n",
       "    }\n",
       "\n",
       "    .dataframe tbody tr th {\n",
       "        vertical-align: top;\n",
       "    }\n",
       "\n",
       "    .dataframe thead th {\n",
       "        text-align: right;\n",
       "    }\n",
       "</style>\n",
       "<table border=\"1\" class=\"dataframe\">\n",
       "  <thead>\n",
       "    <tr style=\"text-align: right;\">\n",
       "      <th></th>\n",
       "      <th>transaction_id</th>\n",
       "      <th>customer_id</th>\n",
       "      <th>product_id</th>\n",
       "      <th>quantity</th>\n",
       "      <th>price</th>\n",
       "      <th>timestamp</th>\n",
       "    </tr>\n",
       "  </thead>\n",
       "  <tbody>\n",
       "    <tr>\n",
       "      <th>0</th>\n",
       "      <td>b1182d23-5bf8-4676-9f12-a0e912011caa</td>\n",
       "      <td>C001</td>\n",
       "      <td>P003</td>\n",
       "      <td>6</td>\n",
       "      <td>150</td>\n",
       "      <td>2024-02-04 13:06:35</td>\n",
       "    </tr>\n",
       "    <tr>\n",
       "      <th>1</th>\n",
       "      <td>3b019fcb-f96d-4403-948c-93f3028d042b</td>\n",
       "      <td>C003</td>\n",
       "      <td>P001</td>\n",
       "      <td>10</td>\n",
       "      <td>100</td>\n",
       "      <td>2024-06-22 11:42:33</td>\n",
       "    </tr>\n",
       "    <tr>\n",
       "      <th>2</th>\n",
       "      <td>346d2b7e-00d3-41af-b53e-0c8624aeba79</td>\n",
       "      <td>C001</td>\n",
       "      <td>P001</td>\n",
       "      <td>5</td>\n",
       "      <td>100</td>\n",
       "      <td>2024-03-12 16:16:16</td>\n",
       "    </tr>\n",
       "    <tr>\n",
       "      <th>3</th>\n",
       "      <td>9ad7558f-eecb-425b-864f-768db080e003</td>\n",
       "      <td>C002</td>\n",
       "      <td>P002</td>\n",
       "      <td>3</td>\n",
       "      <td>200</td>\n",
       "      <td>2024-03-29 04:01:02</td>\n",
       "    </tr>\n",
       "    <tr>\n",
       "      <th>4</th>\n",
       "      <td>b51d70d8-582d-4972-ba08-9ca81cc5a8a0</td>\n",
       "      <td>C003</td>\n",
       "      <td>P002</td>\n",
       "      <td>1</td>\n",
       "      <td>200</td>\n",
       "      <td>2024-02-10 09:54:36</td>\n",
       "    </tr>\n",
       "    <tr>\n",
       "      <th>5</th>\n",
       "      <td>b1182d23-5bf8-4676-9f12-a0e912011caa</td>\n",
       "      <td>C001</td>\n",
       "      <td>P003</td>\n",
       "      <td>6</td>\n",
       "      <td>150</td>\n",
       "      <td>2024-02-04 13:06:35</td>\n",
       "    </tr>\n",
       "    <tr>\n",
       "      <th>6</th>\n",
       "      <td>3b019fcb-f96d-4403-948c-93f3028d042b</td>\n",
       "      <td>C003</td>\n",
       "      <td>P001</td>\n",
       "      <td>10</td>\n",
       "      <td>100</td>\n",
       "      <td>2024-06-22 11:42:33</td>\n",
       "    </tr>\n",
       "    <tr>\n",
       "      <th>7</th>\n",
       "      <td>346d2b7e-00d3-41af-b53e-0c8624aeba79</td>\n",
       "      <td>C001</td>\n",
       "      <td>P001</td>\n",
       "      <td>5</td>\n",
       "      <td>100</td>\n",
       "      <td>2024-03-12 16:16:16</td>\n",
       "    </tr>\n",
       "    <tr>\n",
       "      <th>8</th>\n",
       "      <td>9ad7558f-eecb-425b-864f-768db080e003</td>\n",
       "      <td>C002</td>\n",
       "      <td>P002</td>\n",
       "      <td>3</td>\n",
       "      <td>200</td>\n",
       "      <td>2024-03-29 04:01:02</td>\n",
       "    </tr>\n",
       "    <tr>\n",
       "      <th>9</th>\n",
       "      <td>b51d70d8-582d-4972-ba08-9ca81cc5a8a0</td>\n",
       "      <td>C003</td>\n",
       "      <td>P002</td>\n",
       "      <td>1</td>\n",
       "      <td>200</td>\n",
       "      <td>2024-02-10 09:54:36</td>\n",
       "    </tr>\n",
       "  </tbody>\n",
       "</table>\n",
       "</div>"
      ],
      "text/plain": [
       "                         transaction_id customer_id product_id  quantity  \\\n",
       "0  b1182d23-5bf8-4676-9f12-a0e912011caa        C001       P003         6   \n",
       "1  3b019fcb-f96d-4403-948c-93f3028d042b        C003       P001        10   \n",
       "2  346d2b7e-00d3-41af-b53e-0c8624aeba79        C001       P001         5   \n",
       "3  9ad7558f-eecb-425b-864f-768db080e003        C002       P002         3   \n",
       "4  b51d70d8-582d-4972-ba08-9ca81cc5a8a0        C003       P002         1   \n",
       "5  b1182d23-5bf8-4676-9f12-a0e912011caa        C001       P003         6   \n",
       "6  3b019fcb-f96d-4403-948c-93f3028d042b        C003       P001        10   \n",
       "7  346d2b7e-00d3-41af-b53e-0c8624aeba79        C001       P001         5   \n",
       "8  9ad7558f-eecb-425b-864f-768db080e003        C002       P002         3   \n",
       "9  b51d70d8-582d-4972-ba08-9ca81cc5a8a0        C003       P002         1   \n",
       "\n",
       "   price           timestamp  \n",
       "0    150 2024-02-04 13:06:35  \n",
       "1    100 2024-06-22 11:42:33  \n",
       "2    100 2024-03-12 16:16:16  \n",
       "3    200 2024-03-29 04:01:02  \n",
       "4    200 2024-02-10 09:54:36  \n",
       "5    150 2024-02-04 13:06:35  \n",
       "6    100 2024-06-22 11:42:33  \n",
       "7    100 2024-03-12 16:16:16  \n",
       "8    200 2024-03-29 04:01:02  \n",
       "9    200 2024-02-10 09:54:36  "
      ]
     },
     "execution_count": 3,
     "metadata": {},
     "output_type": "execute_result"
    }
   ],
   "source": [
    "transactions_df.head(10)"
   ]
  },
  {
   "cell_type": "code",
   "execution_count": 4,
   "metadata": {},
   "outputs": [],
   "source": [
    "#drop duplicated rows\n",
    "transactions_df.drop_duplicates(inplace = True)"
   ]
  },
  {
   "cell_type": "code",
   "execution_count": 5,
   "metadata": {},
   "outputs": [
    {
     "data": {
      "text/html": [
       "<div>\n",
       "<style scoped>\n",
       "    .dataframe tbody tr th:only-of-type {\n",
       "        vertical-align: middle;\n",
       "    }\n",
       "\n",
       "    .dataframe tbody tr th {\n",
       "        vertical-align: top;\n",
       "    }\n",
       "\n",
       "    .dataframe thead th {\n",
       "        text-align: right;\n",
       "    }\n",
       "</style>\n",
       "<table border=\"1\" class=\"dataframe\">\n",
       "  <thead>\n",
       "    <tr style=\"text-align: right;\">\n",
       "      <th></th>\n",
       "      <th>transaction_id</th>\n",
       "      <th>customer_id</th>\n",
       "      <th>product_id</th>\n",
       "      <th>quantity</th>\n",
       "      <th>price</th>\n",
       "      <th>timestamp</th>\n",
       "    </tr>\n",
       "  </thead>\n",
       "  <tbody>\n",
       "    <tr>\n",
       "      <th>0</th>\n",
       "      <td>b1182d23-5bf8-4676-9f12-a0e912011caa</td>\n",
       "      <td>C001</td>\n",
       "      <td>P003</td>\n",
       "      <td>6</td>\n",
       "      <td>150</td>\n",
       "      <td>2024-02-04 13:06:35</td>\n",
       "    </tr>\n",
       "    <tr>\n",
       "      <th>1</th>\n",
       "      <td>3b019fcb-f96d-4403-948c-93f3028d042b</td>\n",
       "      <td>C003</td>\n",
       "      <td>P001</td>\n",
       "      <td>10</td>\n",
       "      <td>100</td>\n",
       "      <td>2024-06-22 11:42:33</td>\n",
       "    </tr>\n",
       "    <tr>\n",
       "      <th>2</th>\n",
       "      <td>346d2b7e-00d3-41af-b53e-0c8624aeba79</td>\n",
       "      <td>C001</td>\n",
       "      <td>P001</td>\n",
       "      <td>5</td>\n",
       "      <td>100</td>\n",
       "      <td>2024-03-12 16:16:16</td>\n",
       "    </tr>\n",
       "    <tr>\n",
       "      <th>3</th>\n",
       "      <td>9ad7558f-eecb-425b-864f-768db080e003</td>\n",
       "      <td>C002</td>\n",
       "      <td>P002</td>\n",
       "      <td>3</td>\n",
       "      <td>200</td>\n",
       "      <td>2024-03-29 04:01:02</td>\n",
       "    </tr>\n",
       "    <tr>\n",
       "      <th>4</th>\n",
       "      <td>b51d70d8-582d-4972-ba08-9ca81cc5a8a0</td>\n",
       "      <td>C003</td>\n",
       "      <td>P002</td>\n",
       "      <td>1</td>\n",
       "      <td>200</td>\n",
       "      <td>2024-02-10 09:54:36</td>\n",
       "    </tr>\n",
       "  </tbody>\n",
       "</table>\n",
       "</div>"
      ],
      "text/plain": [
       "                         transaction_id customer_id product_id  quantity  \\\n",
       "0  b1182d23-5bf8-4676-9f12-a0e912011caa        C001       P003         6   \n",
       "1  3b019fcb-f96d-4403-948c-93f3028d042b        C003       P001        10   \n",
       "2  346d2b7e-00d3-41af-b53e-0c8624aeba79        C001       P001         5   \n",
       "3  9ad7558f-eecb-425b-864f-768db080e003        C002       P002         3   \n",
       "4  b51d70d8-582d-4972-ba08-9ca81cc5a8a0        C003       P002         1   \n",
       "\n",
       "   price           timestamp  \n",
       "0    150 2024-02-04 13:06:35  \n",
       "1    100 2024-06-22 11:42:33  \n",
       "2    100 2024-03-12 16:16:16  \n",
       "3    200 2024-03-29 04:01:02  \n",
       "4    200 2024-02-10 09:54:36  "
      ]
     },
     "execution_count": 5,
     "metadata": {},
     "output_type": "execute_result"
    }
   ],
   "source": [
    "transactions_df"
   ]
  },
  {
   "cell_type": "code",
   "execution_count": 6,
   "metadata": {},
   "outputs": [
    {
     "data": {
      "text/html": [
       "<div>\n",
       "<style scoped>\n",
       "    .dataframe tbody tr th:only-of-type {\n",
       "        vertical-align: middle;\n",
       "    }\n",
       "\n",
       "    .dataframe tbody tr th {\n",
       "        vertical-align: top;\n",
       "    }\n",
       "\n",
       "    .dataframe thead th {\n",
       "        text-align: right;\n",
       "    }\n",
       "</style>\n",
       "<table border=\"1\" class=\"dataframe\">\n",
       "  <thead>\n",
       "    <tr style=\"text-align: right;\">\n",
       "      <th></th>\n",
       "      <th>product_id</th>\n",
       "      <th>product_name</th>\n",
       "      <th>category</th>\n",
       "      <th>price</th>\n",
       "    </tr>\n",
       "  </thead>\n",
       "  <tbody>\n",
       "    <tr>\n",
       "      <th>0</th>\n",
       "      <td>P001</td>\n",
       "      <td>Product 1</td>\n",
       "      <td>Category A</td>\n",
       "      <td>-100.0</td>\n",
       "    </tr>\n",
       "    <tr>\n",
       "      <th>1</th>\n",
       "      <td>P002</td>\n",
       "      <td>Product 2</td>\n",
       "      <td>Category B</td>\n",
       "      <td>200.0</td>\n",
       "    </tr>\n",
       "    <tr>\n",
       "      <th>2</th>\n",
       "      <td>P003</td>\n",
       "      <td>Product 3</td>\n",
       "      <td>Category A</td>\n",
       "      <td>150.0</td>\n",
       "    </tr>\n",
       "    <tr>\n",
       "      <th>3</th>\n",
       "      <td>P004</td>\n",
       "      <td>NaN</td>\n",
       "      <td>Category C</td>\n",
       "      <td>300.0</td>\n",
       "    </tr>\n",
       "    <tr>\n",
       "      <th>4</th>\n",
       "      <td>P005</td>\n",
       "      <td>Product 5</td>\n",
       "      <td>Category C</td>\n",
       "      <td>invalid_price</td>\n",
       "    </tr>\n",
       "    <tr>\n",
       "      <th>5</th>\n",
       "      <td>P001</td>\n",
       "      <td>Product 1</td>\n",
       "      <td>Category A</td>\n",
       "      <td>100.0</td>\n",
       "    </tr>\n",
       "  </tbody>\n",
       "</table>\n",
       "</div>"
      ],
      "text/plain": [
       "  product_id product_name    category          price\n",
       "0       P001    Product 1  Category A         -100.0\n",
       "1       P002    Product 2  Category B          200.0\n",
       "2       P003    Product 3  Category A          150.0\n",
       "3       P004          NaN  Category C          300.0\n",
       "4       P005    Product 5  Category C  invalid_price\n",
       "5       P001    Product 1  Category A          100.0"
      ]
     },
     "execution_count": 6,
     "metadata": {},
     "output_type": "execute_result"
    }
   ],
   "source": [
    "products_df.head(10)"
   ]
  },
  {
   "cell_type": "code",
   "execution_count": 7,
   "metadata": {},
   "outputs": [],
   "source": [
    "# remove price = -100.00 , edit name of Product 4\n",
    "products_df['price'] = pd.to_numeric(products_df['price'], errors='coerce')\n",
    "products_df = products_df[products_df['price'] != -100.0]\n",
    "products_df.at[3, 'product_name'] = \"Product 4\""
   ]
  },
  {
   "cell_type": "code",
   "execution_count": 8,
   "metadata": {},
   "outputs": [
    {
     "data": {
      "text/html": [
       "<div>\n",
       "<style scoped>\n",
       "    .dataframe tbody tr th:only-of-type {\n",
       "        vertical-align: middle;\n",
       "    }\n",
       "\n",
       "    .dataframe tbody tr th {\n",
       "        vertical-align: top;\n",
       "    }\n",
       "\n",
       "    .dataframe thead th {\n",
       "        text-align: right;\n",
       "    }\n",
       "</style>\n",
       "<table border=\"1\" class=\"dataframe\">\n",
       "  <thead>\n",
       "    <tr style=\"text-align: right;\">\n",
       "      <th></th>\n",
       "      <th>product_id</th>\n",
       "      <th>product_name</th>\n",
       "      <th>category</th>\n",
       "      <th>price</th>\n",
       "    </tr>\n",
       "  </thead>\n",
       "  <tbody>\n",
       "    <tr>\n",
       "      <th>1</th>\n",
       "      <td>P002</td>\n",
       "      <td>Product 2</td>\n",
       "      <td>Category B</td>\n",
       "      <td>200.0</td>\n",
       "    </tr>\n",
       "    <tr>\n",
       "      <th>2</th>\n",
       "      <td>P003</td>\n",
       "      <td>Product 3</td>\n",
       "      <td>Category A</td>\n",
       "      <td>150.0</td>\n",
       "    </tr>\n",
       "    <tr>\n",
       "      <th>3</th>\n",
       "      <td>P004</td>\n",
       "      <td>Product 4</td>\n",
       "      <td>Category C</td>\n",
       "      <td>300.0</td>\n",
       "    </tr>\n",
       "    <tr>\n",
       "      <th>4</th>\n",
       "      <td>P005</td>\n",
       "      <td>Product 5</td>\n",
       "      <td>Category C</td>\n",
       "      <td>NaN</td>\n",
       "    </tr>\n",
       "    <tr>\n",
       "      <th>5</th>\n",
       "      <td>P001</td>\n",
       "      <td>Product 1</td>\n",
       "      <td>Category A</td>\n",
       "      <td>100.0</td>\n",
       "    </tr>\n",
       "  </tbody>\n",
       "</table>\n",
       "</div>"
      ],
      "text/plain": [
       "  product_id product_name    category  price\n",
       "1       P002    Product 2  Category B  200.0\n",
       "2       P003    Product 3  Category A  150.0\n",
       "3       P004    Product 4  Category C  300.0\n",
       "4       P005    Product 5  Category C    NaN\n",
       "5       P001    Product 1  Category A  100.0"
      ]
     },
     "execution_count": 8,
     "metadata": {},
     "output_type": "execute_result"
    }
   ],
   "source": [
    "products_df"
   ]
  },
  {
   "cell_type": "code",
   "execution_count": 9,
   "metadata": {},
   "outputs": [
    {
     "data": {
      "text/plain": [
       "5"
      ]
     },
     "execution_count": 9,
     "metadata": {},
     "output_type": "execute_result"
    }
   ],
   "source": [
    "# Database connection\n",
    "engine = create_engine('postgresql://user:password@db:5432/shopsmart')\n",
    "# Create tables and insert data\n",
    "transactions_df.to_sql('transactions', engine, if_exists='replace', index=False)\n",
    "products_df.to_sql('products', engine, if_exists='replace', index=False)"
   ]
  },
  {
   "cell_type": "markdown",
   "metadata": {},
   "source": [
    "# What are the top 2 best-selling products?\n",
    "## ANS :  P001,P003"
   ]
  },
  {
   "cell_type": "code",
   "execution_count": 10,
   "metadata": {},
   "outputs": [
    {
     "name": "stdout",
     "output_type": "stream",
     "text": [
      "  product_id product_name  n_quantity\n",
      "0       P001    Product 1        15.0\n",
      "1       P003    Product 3         6.0\n"
     ]
    }
   ],
   "source": [
    "query_top2 = \"\"\"\n",
    "SELECT  t.product_id, p.product_name, SUM(t.quantity) as n_quantity\n",
    "FROM transactions t inner join products p\n",
    "on t.product_id =  p.product_id\n",
    "GROUP BY t.product_id, p.product_name\n",
    "ORDER BY n_quantity DESC\n",
    "LIMIT 2 \n",
    "\"\"\"\n",
    "top_2_products = pd.read_sql(query_top2, engine)\n",
    "print(top_2_products)"
   ]
  },
  {
   "cell_type": "markdown",
   "metadata": {},
   "source": [
    "# What is the average order value per customer?\n",
    "## ANS : C001 = 700 , C002 = 600 , C003 = 600"
   ]
  },
  {
   "cell_type": "code",
   "execution_count": 11,
   "metadata": {},
   "outputs": [
    {
     "name": "stdout",
     "output_type": "stream",
     "text": [
      "  customer_id  average_order_value\n",
      "0        C001                700.0\n",
      "1        C002                600.0\n",
      "2        C003                600.0\n"
     ]
    }
   ],
   "source": [
    "query_AVG = \"\"\"\n",
    "SELECT customer_id, AVG(quantity * price) as average_order_value\n",
    "FROM transactions\n",
    "GROUP BY customer_id\n",
    "ORDER BY customer_id;\n",
    "\"\"\"\n",
    "average_order_value = pd.read_sql(query_AVG, engine)\n",
    "print(average_order_value)"
   ]
  },
  {
   "cell_type": "markdown",
   "metadata": {},
   "source": [
    "# What is the total revenue generated per product category?\n",
    "## ANS : A = 2400 , B = 800 "
   ]
  },
  {
   "cell_type": "code",
   "execution_count": 12,
   "metadata": {},
   "outputs": [
    {
     "name": "stdout",
     "output_type": "stream",
     "text": [
      "     category  total_revenue\n",
      "0  Category A         2400.0\n",
      "1  Category B          800.0\n"
     ]
    }
   ],
   "source": [
    "query_revenue = \"\"\"\n",
    "SELECT p.category, SUM(t.quantity * t.price) as total_revenue\n",
    "FROM transactions t\n",
    "INNER JOIN products p ON t.product_id = p.product_id\n",
    "GROUP BY p.category\n",
    "ORDER BY total_revenue DESC;\n",
    "\"\"\"\n",
    "total_revenue = pd.read_sql(query_revenue, engine)\n",
    "print(total_revenue)"
   ]
  }
 ],
 "metadata": {
  "kernelspec": {
   "display_name": "Python 3 (ipykernel)",
   "language": "python",
   "name": "python3"
  },
  "language_info": {
   "codemirror_mode": {
    "name": "ipython",
    "version": 3
   },
   "file_extension": ".py",
   "mimetype": "text/x-python",
   "name": "python",
   "nbconvert_exporter": "python",
   "pygments_lexer": "ipython3",
   "version": "3.11.6"
  }
 },
 "nbformat": 4,
 "nbformat_minor": 4
}
